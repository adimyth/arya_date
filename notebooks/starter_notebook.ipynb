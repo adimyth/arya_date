{
 "cells": [
  {
   "cell_type": "code",
   "execution_count": 1,
   "metadata": {},
   "outputs": [],
   "source": [
    "import os\n",
    "import random\n",
    "import warnings\n",
    "from collections import defaultdict\n",
    "from glob import glob\n",
    "from pprint import pprint\n",
    "\n",
    "import cv2\n",
    "import numpy as np\n",
    "import pandas as pd\n",
    "import requests\n",
    "import tensorflow as tf\n",
    "from tensorflow.keras.callbacks import CSVLogger, ModelCheckpoint\n",
    "from tensorflow.keras.layers import (GRU, LSTM, AveragePooling2D, Conv2D,\n",
    "                                     Dense, Flatten, Input, MaxPooling2D,\n",
    "                                     Permute, Reshape)\n",
    "from tensorflow.keras.models import Model, load_model\n",
    "from tensorflow.keras.utils import plot_model\n",
    "from tqdm import tqdm"
   ]
  },
  {
   "cell_type": "code",
   "execution_count": 2,
   "metadata": {},
   "outputs": [],
   "source": [
    "TEST_IMAGES_PATH = '../data/processed/test/'\n",
    "TRAIN_CSV_PATH = '../data/raw/train_data/corrected_train_data.csv'\n",
    "TRAIN_IMAGES_PATH = '../data/processed/train/'\n",
    "RANDOM_STATE = 42"
   ]
  },
  {
   "cell_type": "code",
   "execution_count": 3,
   "metadata": {},
   "outputs": [],
   "source": [
    "PUBLIC_host = 'http://13.234.225.243'\n",
    "SUBMISSION_URL = PUBLIC_host + ':8080/submit'\n",
    "LEADERBOARD_URL = PUBLIC_host + ':8080/leaderboard'\n",
    "DATA_URL = PUBLIC_host + ':9600'"
   ]
  },
  {
   "cell_type": "code",
   "execution_count": 4,
   "metadata": {},
   "outputs": [],
   "source": [
    "date_range = (0, 8)\n",
    "image_inp_shape = (100, 450, 1)\n",
    "tag = \"deepak_starter_notebook_corrected_data_label\""
   ]
  },
  {
   "cell_type": "code",
   "execution_count": 5,
   "metadata": {},
   "outputs": [],
   "source": [
    "def seed_everything(seed):\n",
    "    np.random.seed(seed)\n",
    "    random.seed(seed)\n",
    "    tf.random.set_seed(seed)\n",
    "    os.environ[\"PYTHONHASHSEED\"] = str(seed)\n",
    "    os.environ[\"TF_DETERMINISTIC_OPS\"] = \"1\"\n",
    "\n",
    "\n",
    "seed_everything(RANDOM_STATE)"
   ]
  },
  {
   "cell_type": "code",
   "execution_count": 6,
   "metadata": {},
   "outputs": [],
   "source": [
    "train_df = pd.read_csv(TRAIN_CSV_PATH, dtype=str)"
   ]
  },
  {
   "cell_type": "code",
   "execution_count": 7,
   "metadata": {},
   "outputs": [],
   "source": [
    "def model(inp_shape=(100, 450, 1), num_outs=8):\n",
    "    inp = Input(shape=inp_shape)\n",
    "\n",
    "    c = Conv2D(8, (3, 3), activation=\"relu\")(inp)\n",
    "    # c = MaxPooling2D((2,3))(c)\n",
    "    c = AveragePooling2D((2, 3))(c)\n",
    "\n",
    "    c = Conv2D(1, (3, 3), activation=\"relu\")(c)\n",
    "    # c = MaxPooling2D((2,3))(c)\n",
    "    c = AveragePooling2D((2, 3))(c)\n",
    "\n",
    "    r = Reshape((int(c.shape[1]), int(c.shape[2])))(c)\n",
    "    p = Permute((2, 1))(r)\n",
    "\n",
    "    shared_softmax = Dense(10, activation=\"softmax\")\n",
    "\n",
    "    outs = []\n",
    "    for xx in range(num_outs):\n",
    "        l = LSTM(20, return_sequences=True)(p)\n",
    "        f = Flatten()(l)\n",
    "        s = shared_softmax(f)\n",
    "        outs.append(s)\n",
    "    if num_outs == 1:\n",
    "        outs = outs[0]\n",
    "    model = Model(inputs=inp, outputs=outs)\n",
    "    model.compile(\n",
    "        optimizer=\"adam\", loss=\"categorical_crossentropy\", metrics=[\"accuracy\"]\n",
    "    )\n",
    "\n",
    "    return model"
   ]
  },
  {
   "cell_type": "code",
   "execution_count": 8,
   "metadata": {},
   "outputs": [],
   "source": [
    "def generator(\n",
    "    batch_size=32,\n",
    "    image_inp_shape=(450, 100),\n",
    "    rand_flag=True,\n",
    "    mode=\"train\",\n",
    "    train_ratio=0.8,\n",
    "    date_range=(0, 7),\n",
    "):\n",
    "    images_files = glob(TRAIN_IMAGES_PATH + \"/*.png\")\n",
    "    train_size = int(len(images_files) * train_ratio)\n",
    "    images_files = (\n",
    "        images_files[:train_size] if mode == \"train\" else images_files[train_size:]\n",
    "    )\n",
    "    iter_count = 0\n",
    "    while True:\n",
    "        try:\n",
    "            if rand_flag:\n",
    "                x_batch = random.sample(images_files, batch_size)\n",
    "            else:\n",
    "                x_batch = images_files[\n",
    "                    iter_count * batch_size : iter_count * batch_size + batch_size\n",
    "                ]\n",
    "            iter_count += 1\n",
    "            y_batch = list(\n",
    "                map(\n",
    "                    lambda x: train_df.loc[\n",
    "                        train_df[\"tag\"] == x.split(\"/\")[-1].split(\".\")[0]\n",
    "                    ][\"label\"].item(),\n",
    "                    x_batch,\n",
    "                )\n",
    "            )\n",
    "            x_batch = np.array(\n",
    "                list(\n",
    "                    map(\n",
    "                        lambda x: np.expand_dims(\n",
    "                            cv2.resize(cv2.imread(x, 0), (image_inp_shape)), -1\n",
    "                        ),\n",
    "                        x_batch,\n",
    "                    )\n",
    "                )\n",
    "            )\n",
    "            y_batch = np.eye(10)[\n",
    "                list(\n",
    "                    map(\n",
    "                        lambda x: list(\n",
    "                            map(\n",
    "                                lambda xx: int(xx),\n",
    "                                list(x)[date_range[0] : date_range[1]],\n",
    "                            )\n",
    "                        ),\n",
    "                        y_batch,\n",
    "                    )\n",
    "                )\n",
    "            ]\n",
    "            y_batch = list(np.swapaxes(y_batch, 0, 1))\n",
    "\n",
    "            if date_range[1] - date_range[0] == 1:\n",
    "                y_batch = y_batch[0]\n",
    "\n",
    "            yield (x_batch, y_batch)\n",
    "        except Exception as e:\n",
    "            print(e)\n",
    "            continue"
   ]
  },
  {
   "cell_type": "code",
   "execution_count": 9,
   "metadata": {
    "scrolled": true
   },
   "outputs": [],
   "source": [
    "m = model(inp_shape=image_inp_shape, num_outs=date_range[1] - date_range[0])"
   ]
  },
  {
   "cell_type": "code",
   "execution_count": 10,
   "metadata": {},
   "outputs": [
    {
     "name": "stdout",
     "output_type": "stream",
     "text": [
      "Model: \"model\"\n",
      "__________________________________________________________________________________________________\n",
      "Layer (type)                    Output Shape         Param #     Connected to                     \n",
      "==================================================================================================\n",
      "input_1 (InputLayer)            [(None, 100, 450, 1) 0                                            \n",
      "__________________________________________________________________________________________________\n",
      "conv2d (Conv2D)                 (None, 98, 448, 8)   80          input_1[0][0]                    \n",
      "__________________________________________________________________________________________________\n",
      "average_pooling2d (AveragePooli (None, 49, 149, 8)   0           conv2d[0][0]                     \n",
      "__________________________________________________________________________________________________\n",
      "conv2d_1 (Conv2D)               (None, 47, 147, 1)   73          average_pooling2d[0][0]          \n",
      "__________________________________________________________________________________________________\n",
      "average_pooling2d_1 (AveragePoo (None, 23, 49, 1)    0           conv2d_1[0][0]                   \n",
      "__________________________________________________________________________________________________\n",
      "reshape (Reshape)               (None, 23, 49)       0           average_pooling2d_1[0][0]        \n",
      "__________________________________________________________________________________________________\n",
      "permute (Permute)               (None, 49, 23)       0           reshape[0][0]                    \n",
      "__________________________________________________________________________________________________\n",
      "lstm (LSTM)                     (None, 49, 20)       3520        permute[0][0]                    \n",
      "__________________________________________________________________________________________________\n",
      "lstm_1 (LSTM)                   (None, 49, 20)       3520        permute[0][0]                    \n",
      "__________________________________________________________________________________________________\n",
      "lstm_2 (LSTM)                   (None, 49, 20)       3520        permute[0][0]                    \n",
      "__________________________________________________________________________________________________\n",
      "lstm_3 (LSTM)                   (None, 49, 20)       3520        permute[0][0]                    \n",
      "__________________________________________________________________________________________________\n",
      "lstm_4 (LSTM)                   (None, 49, 20)       3520        permute[0][0]                    \n",
      "__________________________________________________________________________________________________\n",
      "lstm_5 (LSTM)                   (None, 49, 20)       3520        permute[0][0]                    \n",
      "__________________________________________________________________________________________________\n",
      "lstm_6 (LSTM)                   (None, 49, 20)       3520        permute[0][0]                    \n",
      "__________________________________________________________________________________________________\n",
      "lstm_7 (LSTM)                   (None, 49, 20)       3520        permute[0][0]                    \n",
      "__________________________________________________________________________________________________\n",
      "flatten (Flatten)               (None, 980)          0           lstm[0][0]                       \n",
      "__________________________________________________________________________________________________\n",
      "flatten_1 (Flatten)             (None, 980)          0           lstm_1[0][0]                     \n",
      "__________________________________________________________________________________________________\n",
      "flatten_2 (Flatten)             (None, 980)          0           lstm_2[0][0]                     \n",
      "__________________________________________________________________________________________________\n",
      "flatten_3 (Flatten)             (None, 980)          0           lstm_3[0][0]                     \n",
      "__________________________________________________________________________________________________\n",
      "flatten_4 (Flatten)             (None, 980)          0           lstm_4[0][0]                     \n",
      "__________________________________________________________________________________________________\n",
      "flatten_5 (Flatten)             (None, 980)          0           lstm_5[0][0]                     \n",
      "__________________________________________________________________________________________________\n",
      "flatten_6 (Flatten)             (None, 980)          0           lstm_6[0][0]                     \n",
      "__________________________________________________________________________________________________\n",
      "flatten_7 (Flatten)             (None, 980)          0           lstm_7[0][0]                     \n",
      "__________________________________________________________________________________________________\n",
      "dense (Dense)                   (None, 10)           9810        flatten[0][0]                    \n",
      "                                                                 flatten_1[0][0]                  \n",
      "                                                                 flatten_2[0][0]                  \n",
      "                                                                 flatten_3[0][0]                  \n",
      "                                                                 flatten_4[0][0]                  \n",
      "                                                                 flatten_5[0][0]                  \n",
      "                                                                 flatten_6[0][0]                  \n",
      "                                                                 flatten_7[0][0]                  \n",
      "==================================================================================================\n",
      "Total params: 38,123\n",
      "Trainable params: 38,123\n",
      "Non-trainable params: 0\n",
      "__________________________________________________________________________________________________\n"
     ]
    }
   ],
   "source": [
    "m.summary()"
   ]
  },
  {
   "cell_type": "code",
   "execution_count": 11,
   "metadata": {},
   "outputs": [
    {
     "data": {
      "image/png": "[encoded data removed]",
      "text/plain": [
       "<IPython.core.display.Image object>"
      ]
     },
     "execution_count": 11,
     "metadata": {},
     "output_type": "execute_result"
    }
   ],
   "source": [
    "plot_model(m)"
   ]
  },
  {
   "cell_type": "code",
   "execution_count": 12,
   "metadata": {},
   "outputs": [
    {
     "name": "stdout",
     "output_type": "stream",
     "text": [
      "Epoch 1/3\n",
      "300/300 [==============================] - 174s 580ms/step - loss: 12.6127 - dense_loss: 2.3392 - dense_1_loss: 2.3370 - dense_2_loss: 2.3359 - dense_3_loss: 2.3312 - dense_4_loss: 1.6421 - dense_5_loss: 0.7905 - dense_6_loss: 0.8138 - dense_7_loss: 0.0229 - dense_accuracy: 0.1112 - dense_1_accuracy: 0.1136 - dense_2_accuracy: 0.1179 - dense_3_accuracy: 0.1126 - dense_4_accuracy: 0.2355 - dense_5_accuracy: 0.5352 - dense_6_accuracy: 0.5163 - dense_7_accuracy: 0.9960 - val_loss: 12.1927 - val_dense_loss: 2.3140 - val_dense_1_loss: 2.3210 - val_dense_2_loss: 2.3171 - val_dense_3_loss: 2.2985 - val_dense_4_loss: 1.5856 - val_dense_5_loss: 0.6614 - val_dense_6_loss: 0.6944 - val_dense_7_loss: 7.4691e-04 - val_dense_accuracy: 0.1141 - val_dense_1_accuracy: 0.1219 - val_dense_2_accuracy: 0.1525 - val_dense_3_accuracy: 0.1247 - val_dense_4_accuracy: 0.2709 - val_dense_5_accuracy: 0.6488 - val_dense_6_accuracy: 0.5813 - val_dense_7_accuracy: 1.0000\n",
      "Epoch 2/3\n",
      "300/300 [==============================] - 162s 539ms/step - loss: 11.8580 - dense_loss: 2.2880 - dense_1_loss: 2.2935 - dense_2_loss: 2.2763 - dense_3_loss: 2.2862 - dense_4_loss: 1.5518 - dense_5_loss: 0.6097 - dense_6_loss: 0.5520 - dense_7_loss: 6.9356e-04 - dense_accuracy: 0.1379 - dense_1_accuracy: 0.1356 - dense_2_accuracy: 0.1507 - dense_3_accuracy: 0.1299 - dense_4_accuracy: 0.3118 - dense_5_accuracy: 0.6982 - dense_6_accuracy: 0.7396 - dense_7_accuracy: 1.0000 - val_loss: 11.7003 - val_dense_loss: 2.2726 - val_dense_1_loss: 2.2809 - val_dense_2_loss: 2.2761 - val_dense_3_loss: 2.2743 - val_dense_4_loss: 1.5362 - val_dense_5_loss: 0.5699 - val_dense_6_loss: 0.4897 - val_dense_7_loss: 7.3290e-04 - val_dense_accuracy: 0.1484 - val_dense_1_accuracy: 0.1456 - val_dense_2_accuracy: 0.1453 - val_dense_3_accuracy: 0.1409 - val_dense_4_accuracy: 0.3228 - val_dense_5_accuracy: 0.7322 - val_dense_6_accuracy: 0.7753 - val_dense_7_accuracy: 1.0000\n",
      "Epoch 3/3\n",
      "300/300 [==============================] - 196s 653ms/step - loss: 11.3352 - dense_loss: 2.2218 - dense_1_loss: 2.2414 - dense_2_loss: 2.2227 - dense_3_loss: 2.2477 - dense_4_loss: 1.4315 - dense_5_loss: 0.5145 - dense_6_loss: 0.4551 - dense_7_loss: 5.0882e-04 - dense_accuracy: 0.1839 - dense_1_accuracy: 0.1773 - dense_2_accuracy: 0.1849 - dense_3_accuracy: 0.1636 - dense_4_accuracy: 0.4173 - dense_5_accuracy: 0.7720 - dense_6_accuracy: 0.8039 - dense_7_accuracy: 1.0000 - val_loss: 11.1988 - val_dense_loss: 2.2175 - val_dense_1_loss: 2.2500 - val_dense_2_loss: 2.2298 - val_dense_3_loss: 2.2414 - val_dense_4_loss: 1.4012 - val_dense_5_loss: 0.4628 - val_dense_6_loss: 0.3957 - val_dense_7_loss: 3.3666e-04 - val_dense_accuracy: 0.1866 - val_dense_1_accuracy: 0.1625 - val_dense_2_accuracy: 0.1769 - val_dense_3_accuracy: 0.1697 - val_dense_4_accuracy: 0.4338 - val_dense_5_accuracy: 0.8172 - val_dense_6_accuracy: 0.8341 - val_dense_7_accuracy: 1.0000\n"
     ]
    },
    {
     "data": {
      "text/plain": [
       "<tensorflow.python.keras.callbacks.History at 0x14cede240>"
      ]
     },
     "execution_count": 12,
     "metadata": {},
     "output_type": "execute_result"
    }
   ],
   "source": [
    "model_file_path = f\"../models/{tag}_{date_range[0]}-{date_range[1]}.h5\"\n",
    "\n",
    "# callbacks\n",
    "cbk = ModelCheckpoint(\n",
    "    model_file_path, monitor=\"val_loss\", save_weights_only=False, save_best_only=True\n",
    ")\n",
    "log = CSVLogger(f\"../logs/{tag}.log\")\n",
    "\n",
    "# training\n",
    "m.fit(\n",
    "    generator(image_inp_shape=(450, 100), date_range=date_range),\n",
    "    epochs=3,\n",
    "    steps_per_epoch=300,\n",
    "    validation_data=generator(\n",
    "        image_inp_shape=(450, 100), rand_flag=True, mode=\"val\", date_range=date_range\n",
    "    ),\n",
    "    validation_steps=100,\n",
    "    callbacks=[cbk, log],\n",
    ")"
   ]
  },
  {
   "cell_type": "code",
   "execution_count": 13,
   "metadata": {},
   "outputs": [
    {
     "name": "stderr",
     "output_type": "stream",
     "text": [
      "100%|██████████| 1000/1000 [01:06<00:00, 15.12it/s]\n"
     ]
    }
   ],
   "source": [
    "# m = load_model(model_file_path)\n",
    "images_files = glob(TEST_IMAGES_PATH + \"/*.png\")\n",
    "\n",
    "s_dict = defaultdict(list)\n",
    "for image_file in tqdm(images_files):\n",
    "    x_test = np.expand_dims(cv2.resize(cv2.imread(image_file, 0), (450, 100)), -1)\n",
    "    pred = m.predict(np.array([x_test]))\n",
    "    pred_label = \"\".join(list(map(lambda x: str(np.argmax(x)), pred)))\n",
    "    s_dict[\"tag\"].append(image_file.split(\"/\")[-1].split(\".\")[0])\n",
    "    s_dict[\"label\"].append(pred_label)\n",
    "\n",
    "sub_df = pd.DataFrame(s_dict)"
   ]
  },
  {
   "cell_type": "code",
   "execution_count": 20,
   "metadata": {},
   "outputs": [
    {
     "name": "stdout",
     "output_type": "stream",
     "text": [
      "     tag     label\n",
      "93   969  07213781\n",
      "692   19  15116781\n",
      "100  996  25715781\n",
      "562  718  57244871\n",
      "729  779  07245881\n",
      "924  434  31806871\n",
      "393  660  07813871\n",
      "685  939  67716781\n",
      "738  547  07363781\n",
      "264  511  01514871\n"
     ]
    }
   ],
   "source": [
    "print(sub_df.sample(n=10))"
   ]
  },
  {
   "cell_type": "code",
   "execution_count": 15,
   "metadata": {},
   "outputs": [],
   "source": [
    "sub_df.to_csv(f\"../submissions/{tag}.csv\", index=False)"
   ]
  },
  {
   "cell_type": "code",
   "execution_count": 16,
   "metadata": {},
   "outputs": [],
   "source": [
    "sub_json = sub_df.to_json()\n",
    "data = {\n",
    "    \"username\": \"deepak\",\n",
    "    \"password\": \"xxxx\",\n",
    "    \"submission\": sub_json,\n",
    "    \"tag\": tag,\n",
    "}\n",
    "# r = requests.post(SUBMISSION_URL, json=data)"
   ]
  },
  {
   "cell_type": "code",
   "execution_count": 17,
   "metadata": {},
   "outputs": [],
   "source": [
    "# r.text"
   ]
  },
  {
   "cell_type": "code",
   "execution_count": 18,
   "metadata": {},
   "outputs": [
    {
     "name": "stdout",
     "output_type": "stream",
     "text": [
      "{'leaderboard': [{'score': 0.0,\n",
      "                  'submitted_at': '2020-10-24-06-36-1603521407',\n",
      "                  'tag': 'test2',\n",
      "                  'username': 'deepak'}],\n",
      " 'success': True}\n"
     ]
    }
   ],
   "source": [
    "rl = requests.post(LEADERBOARD_URL, json={})\n",
    "pprint(rl.json())"
   ]
  },
  {
   "cell_type": "code",
   "execution_count": null,
   "metadata": {},
   "outputs": [],
   "source": []
  },
  {
   "cell_type": "markdown",
   "metadata": {},
   "source": [
    "**Comparing different versions**"
   ]
  },
  {
   "cell_type": "code",
   "execution_count": 21,
   "metadata": {},
   "outputs": [
    {
     "name": "stdout",
     "output_type": "stream",
     "text": [
      "deepak_starter_notebook.log\r\n",
      "deepak_starter_notebook_corrected_data_label.log\r\n",
      "deepak_starter_notebook_corrected_label.log\r\n"
     ]
    }
   ],
   "source": [
    "!ls ../logs"
   ]
  },
  {
   "cell_type": "code",
   "execution_count": 22,
   "metadata": {},
   "outputs": [],
   "source": [
    "v1 = pd.read_csv(\"../logs/deepak_starter_notebook.log\")\n",
    "v2 = pd.read_csv(\"../logs/deepak_starter_notebook_corrected_label.log\")\n",
    "v3 = pd.read_csv(\"../logs/deepak_starter_notebook_corrected_data_label.log\")"
   ]
  },
  {
   "cell_type": "code",
   "execution_count": 41,
   "metadata": {},
   "outputs": [],
   "source": [
    "loss_cols, acc_cols, val_loss, val_acc = [], [], [], []"
   ]
  },
  {
   "cell_type": "code",
   "execution_count": 42,
   "metadata": {},
   "outputs": [],
   "source": [
    "for col in v1.columns:\n",
    "    if \"accuracy\" in col and \"val\" in col:\n",
    "        val_acc.append(col)\n",
    "    elif \"loss\" in col and \"val\" in col:\n",
    "        val_loss.append(col)\n",
    "    elif \"accuracy\" in col:\n",
    "        acc_cols.append(col)\n",
    "    else:\n",
    "        loss_cols.append(col)"
   ]
  },
  {
   "cell_type": "code",
   "execution_count": 43,
   "metadata": {},
   "outputs": [
    {
     "data": {
      "text/plain": [
       "True"
      ]
     },
     "execution_count": 43,
     "metadata": {},
     "output_type": "execute_result"
    }
   ],
   "source": [
    "v1.equals(v2)"
   ]
  },
  {
   "cell_type": "code",
   "execution_count": 44,
   "metadata": {},
   "outputs": [
    {
     "data": {
      "text/html": [
       "<div>\n",
       "<style scoped>\n",
       "    .dataframe tbody tr th:only-of-type {\n",
       "        vertical-align: middle;\n",
       "    }\n",
       "\n",
       "    .dataframe tbody tr th {\n",
       "        vertical-align: top;\n",
       "    }\n",
       "\n",
       "    .dataframe thead th {\n",
       "        text-align: right;\n",
       "    }\n",
       "</style>\n",
       "<table border=\"1\" class=\"dataframe\">\n",
       "  <thead>\n",
       "    <tr style=\"text-align: right;\">\n",
       "      <th></th>\n",
       "      <th>dense_1_accuracy</th>\n",
       "      <th>dense_2_accuracy</th>\n",
       "      <th>dense_3_accuracy</th>\n",
       "      <th>dense_4_accuracy</th>\n",
       "      <th>dense_5_accuracy</th>\n",
       "      <th>dense_6_accuracy</th>\n",
       "      <th>dense_7_accuracy</th>\n",
       "      <th>dense_accuracy</th>\n",
       "    </tr>\n",
       "  </thead>\n",
       "  <tbody>\n",
       "    <tr>\n",
       "      <th>0</th>\n",
       "      <td>0.105938</td>\n",
       "      <td>0.108021</td>\n",
       "      <td>0.110000</td>\n",
       "      <td>0.220729</td>\n",
       "      <td>0.521979</td>\n",
       "      <td>0.501354</td>\n",
       "      <td>0.995</td>\n",
       "      <td>0.096042</td>\n",
       "    </tr>\n",
       "    <tr>\n",
       "      <th>1</th>\n",
       "      <td>0.105625</td>\n",
       "      <td>0.118542</td>\n",
       "      <td>0.109063</td>\n",
       "      <td>0.233021</td>\n",
       "      <td>0.565938</td>\n",
       "      <td>0.611250</td>\n",
       "      <td>1.000</td>\n",
       "      <td>0.100729</td>\n",
       "    </tr>\n",
       "    <tr>\n",
       "      <th>2</th>\n",
       "      <td>0.100729</td>\n",
       "      <td>0.127917</td>\n",
       "      <td>0.117812</td>\n",
       "      <td>0.256667</td>\n",
       "      <td>0.614479</td>\n",
       "      <td>0.646042</td>\n",
       "      <td>1.000</td>\n",
       "      <td>0.103646</td>\n",
       "    </tr>\n",
       "  </tbody>\n",
       "</table>\n",
       "</div>"
      ],
      "text/plain": [
       "   dense_1_accuracy  dense_2_accuracy  dense_3_accuracy  dense_4_accuracy  \\\n",
       "0          0.105938          0.108021          0.110000          0.220729   \n",
       "1          0.105625          0.118542          0.109063          0.233021   \n",
       "2          0.100729          0.127917          0.117812          0.256667   \n",
       "\n",
       "   dense_5_accuracy  dense_6_accuracy  dense_7_accuracy  dense_accuracy  \n",
       "0          0.521979          0.501354             0.995        0.096042  \n",
       "1          0.565938          0.611250             1.000        0.100729  \n",
       "2          0.614479          0.646042             1.000        0.103646  "
      ]
     },
     "execution_count": 44,
     "metadata": {},
     "output_type": "execute_result"
    }
   ],
   "source": [
    "v2[acc_cols]"
   ]
  },
  {
   "cell_type": "code",
   "execution_count": 45,
   "metadata": {},
   "outputs": [
    {
     "data": {
      "text/html": [
       "<div>\n",
       "<style scoped>\n",
       "    .dataframe tbody tr th:only-of-type {\n",
       "        vertical-align: middle;\n",
       "    }\n",
       "\n",
       "    .dataframe tbody tr th {\n",
       "        vertical-align: top;\n",
       "    }\n",
       "\n",
       "    .dataframe thead th {\n",
       "        text-align: right;\n",
       "    }\n",
       "</style>\n",
       "<table border=\"1\" class=\"dataframe\">\n",
       "  <thead>\n",
       "    <tr style=\"text-align: right;\">\n",
       "      <th></th>\n",
       "      <th>dense_1_accuracy</th>\n",
       "      <th>dense_2_accuracy</th>\n",
       "      <th>dense_3_accuracy</th>\n",
       "      <th>dense_4_accuracy</th>\n",
       "      <th>dense_5_accuracy</th>\n",
       "      <th>dense_6_accuracy</th>\n",
       "      <th>dense_7_accuracy</th>\n",
       "      <th>dense_accuracy</th>\n",
       "    </tr>\n",
       "  </thead>\n",
       "  <tbody>\n",
       "    <tr>\n",
       "      <th>0</th>\n",
       "      <td>0.113646</td>\n",
       "      <td>0.117917</td>\n",
       "      <td>0.112604</td>\n",
       "      <td>0.235521</td>\n",
       "      <td>0.535208</td>\n",
       "      <td>0.516250</td>\n",
       "      <td>0.996042</td>\n",
       "      <td>0.111250</td>\n",
       "    </tr>\n",
       "    <tr>\n",
       "      <th>1</th>\n",
       "      <td>0.135625</td>\n",
       "      <td>0.150729</td>\n",
       "      <td>0.129896</td>\n",
       "      <td>0.311771</td>\n",
       "      <td>0.698229</td>\n",
       "      <td>0.739583</td>\n",
       "      <td>1.000000</td>\n",
       "      <td>0.137917</td>\n",
       "    </tr>\n",
       "    <tr>\n",
       "      <th>2</th>\n",
       "      <td>0.177292</td>\n",
       "      <td>0.184896</td>\n",
       "      <td>0.163646</td>\n",
       "      <td>0.417292</td>\n",
       "      <td>0.771979</td>\n",
       "      <td>0.803854</td>\n",
       "      <td>1.000000</td>\n",
       "      <td>0.183854</td>\n",
       "    </tr>\n",
       "  </tbody>\n",
       "</table>\n",
       "</div>"
      ],
      "text/plain": [
       "   dense_1_accuracy  dense_2_accuracy  dense_3_accuracy  dense_4_accuracy  \\\n",
       "0          0.113646          0.117917          0.112604          0.235521   \n",
       "1          0.135625          0.150729          0.129896          0.311771   \n",
       "2          0.177292          0.184896          0.163646          0.417292   \n",
       "\n",
       "   dense_5_accuracy  dense_6_accuracy  dense_7_accuracy  dense_accuracy  \n",
       "0          0.535208          0.516250          0.996042        0.111250  \n",
       "1          0.698229          0.739583          1.000000        0.137917  \n",
       "2          0.771979          0.803854          1.000000        0.183854  "
      ]
     },
     "execution_count": 45,
     "metadata": {},
     "output_type": "execute_result"
    }
   ],
   "source": [
    "v3[acc_cols]"
   ]
  },
  {
   "cell_type": "markdown",
   "metadata": {},
   "source": [
    "*Mean Accuracy Improvement per Layer*"
   ]
  },
  {
   "cell_type": "code",
   "execution_count": 62,
   "metadata": {},
   "outputs": [
    {
     "data": {
      "text/plain": [
       "dense_1_accuracy    0.038090\n",
       "dense_2_accuracy    0.033021\n",
       "dense_3_accuracy    0.023090\n",
       "dense_4_accuracy    0.084722\n",
       "dense_5_accuracy    0.101007\n",
       "dense_6_accuracy    0.100347\n",
       "dense_7_accuracy    0.000347\n",
       "dense_accuracy      0.044201\n",
       "dtype: float64"
      ]
     },
     "execution_count": 62,
     "metadata": {},
     "output_type": "execute_result"
    }
   ],
   "source": [
    "inter = v3[acc_cols]-v2[acc_cols]\n",
    "inter.mean()"
   ]
  },
  {
   "cell_type": "code",
   "execution_count": 65,
   "metadata": {},
   "outputs": [
    {
     "name": "stdout",
     "output_type": "stream",
     "text": [
      "Total Improvement: 0.0531\n"
     ]
    }
   ],
   "source": [
    "print(f\"Total Improvement: {inter.mean().mean():.4}\")"
   ]
  },
  {
   "cell_type": "code",
   "execution_count": null,
   "metadata": {},
   "outputs": [],
   "source": []
  },
  {
   "cell_type": "markdown",
   "metadata": {},
   "source": [
    "**v3 provides better training accuracy for each layer prediction per epoch**"
   ]
  },
  {
   "cell_type": "code",
   "execution_count": 46,
   "metadata": {},
   "outputs": [
    {
     "data": {
      "text/html": [
       "<div>\n",
       "<style scoped>\n",
       "    .dataframe tbody tr th:only-of-type {\n",
       "        vertical-align: middle;\n",
       "    }\n",
       "\n",
       "    .dataframe tbody tr th {\n",
       "        vertical-align: top;\n",
       "    }\n",
       "\n",
       "    .dataframe thead th {\n",
       "        text-align: right;\n",
       "    }\n",
       "</style>\n",
       "<table border=\"1\" class=\"dataframe\">\n",
       "  <thead>\n",
       "    <tr style=\"text-align: right;\">\n",
       "      <th></th>\n",
       "      <th>val_dense_1_accuracy</th>\n",
       "      <th>val_dense_2_accuracy</th>\n",
       "      <th>val_dense_3_accuracy</th>\n",
       "      <th>val_dense_4_accuracy</th>\n",
       "      <th>val_dense_5_accuracy</th>\n",
       "      <th>val_dense_6_accuracy</th>\n",
       "      <th>val_dense_7_accuracy</th>\n",
       "      <th>val_dense_accuracy</th>\n",
       "    </tr>\n",
       "  </thead>\n",
       "  <tbody>\n",
       "    <tr>\n",
       "      <th>0</th>\n",
       "      <td>0.120000</td>\n",
       "      <td>0.107813</td>\n",
       "      <td>0.102187</td>\n",
       "      <td>0.217187</td>\n",
       "      <td>0.544062</td>\n",
       "      <td>0.500625</td>\n",
       "      <td>1.0</td>\n",
       "      <td>0.101562</td>\n",
       "    </tr>\n",
       "    <tr>\n",
       "      <th>1</th>\n",
       "      <td>0.101250</td>\n",
       "      <td>0.116250</td>\n",
       "      <td>0.105625</td>\n",
       "      <td>0.203125</td>\n",
       "      <td>0.592188</td>\n",
       "      <td>0.647500</td>\n",
       "      <td>1.0</td>\n",
       "      <td>0.105000</td>\n",
       "    </tr>\n",
       "    <tr>\n",
       "      <th>2</th>\n",
       "      <td>0.101875</td>\n",
       "      <td>0.119062</td>\n",
       "      <td>0.107188</td>\n",
       "      <td>0.255313</td>\n",
       "      <td>0.643125</td>\n",
       "      <td>0.652500</td>\n",
       "      <td>1.0</td>\n",
       "      <td>0.110937</td>\n",
       "    </tr>\n",
       "  </tbody>\n",
       "</table>\n",
       "</div>"
      ],
      "text/plain": [
       "   val_dense_1_accuracy  val_dense_2_accuracy  val_dense_3_accuracy  \\\n",
       "0              0.120000              0.107813              0.102187   \n",
       "1              0.101250              0.116250              0.105625   \n",
       "2              0.101875              0.119062              0.107188   \n",
       "\n",
       "   val_dense_4_accuracy  val_dense_5_accuracy  val_dense_6_accuracy  \\\n",
       "0              0.217187              0.544062              0.500625   \n",
       "1              0.203125              0.592188              0.647500   \n",
       "2              0.255313              0.643125              0.652500   \n",
       "\n",
       "   val_dense_7_accuracy  val_dense_accuracy  \n",
       "0                   1.0            0.101562  \n",
       "1                   1.0            0.105000  \n",
       "2                   1.0            0.110937  "
      ]
     },
     "execution_count": 46,
     "metadata": {},
     "output_type": "execute_result"
    }
   ],
   "source": [
    "v2[val_acc]"
   ]
  },
  {
   "cell_type": "code",
   "execution_count": 47,
   "metadata": {},
   "outputs": [
    {
     "data": {
      "text/html": [
       "<div>\n",
       "<style scoped>\n",
       "    .dataframe tbody tr th:only-of-type {\n",
       "        vertical-align: middle;\n",
       "    }\n",
       "\n",
       "    .dataframe tbody tr th {\n",
       "        vertical-align: top;\n",
       "    }\n",
       "\n",
       "    .dataframe thead th {\n",
       "        text-align: right;\n",
       "    }\n",
       "</style>\n",
       "<table border=\"1\" class=\"dataframe\">\n",
       "  <thead>\n",
       "    <tr style=\"text-align: right;\">\n",
       "      <th></th>\n",
       "      <th>val_dense_1_accuracy</th>\n",
       "      <th>val_dense_2_accuracy</th>\n",
       "      <th>val_dense_3_accuracy</th>\n",
       "      <th>val_dense_4_accuracy</th>\n",
       "      <th>val_dense_5_accuracy</th>\n",
       "      <th>val_dense_6_accuracy</th>\n",
       "      <th>val_dense_7_accuracy</th>\n",
       "      <th>val_dense_accuracy</th>\n",
       "    </tr>\n",
       "  </thead>\n",
       "  <tbody>\n",
       "    <tr>\n",
       "      <th>0</th>\n",
       "      <td>0.121875</td>\n",
       "      <td>0.152500</td>\n",
       "      <td>0.124688</td>\n",
       "      <td>0.270938</td>\n",
       "      <td>0.648750</td>\n",
       "      <td>0.581250</td>\n",
       "      <td>1.0</td>\n",
       "      <td>0.114063</td>\n",
       "    </tr>\n",
       "    <tr>\n",
       "      <th>1</th>\n",
       "      <td>0.145625</td>\n",
       "      <td>0.145313</td>\n",
       "      <td>0.140938</td>\n",
       "      <td>0.322812</td>\n",
       "      <td>0.732188</td>\n",
       "      <td>0.775312</td>\n",
       "      <td>1.0</td>\n",
       "      <td>0.148438</td>\n",
       "    </tr>\n",
       "    <tr>\n",
       "      <th>2</th>\n",
       "      <td>0.162500</td>\n",
       "      <td>0.176875</td>\n",
       "      <td>0.169687</td>\n",
       "      <td>0.433750</td>\n",
       "      <td>0.817187</td>\n",
       "      <td>0.834063</td>\n",
       "      <td>1.0</td>\n",
       "      <td>0.186562</td>\n",
       "    </tr>\n",
       "  </tbody>\n",
       "</table>\n",
       "</div>"
      ],
      "text/plain": [
       "   val_dense_1_accuracy  val_dense_2_accuracy  val_dense_3_accuracy  \\\n",
       "0              0.121875              0.152500              0.124688   \n",
       "1              0.145625              0.145313              0.140938   \n",
       "2              0.162500              0.176875              0.169687   \n",
       "\n",
       "   val_dense_4_accuracy  val_dense_5_accuracy  val_dense_6_accuracy  \\\n",
       "0              0.270938              0.648750              0.581250   \n",
       "1              0.322812              0.732188              0.775312   \n",
       "2              0.433750              0.817187              0.834063   \n",
       "\n",
       "   val_dense_7_accuracy  val_dense_accuracy  \n",
       "0                   1.0            0.114063  \n",
       "1                   1.0            0.148438  \n",
       "2                   1.0            0.186562  "
      ]
     },
     "execution_count": 47,
     "metadata": {},
     "output_type": "execute_result"
    }
   ],
   "source": [
    "v3[val_acc]"
   ]
  },
  {
   "cell_type": "markdown",
   "metadata": {},
   "source": [
    "*Mean Accuracy Improvement per Layer*"
   ]
  },
  {
   "cell_type": "code",
   "execution_count": 66,
   "metadata": {},
   "outputs": [
    {
     "data": {
      "text/plain": [
       "val_dense_1_accuracy    0.035625\n",
       "val_dense_2_accuracy    0.043854\n",
       "val_dense_3_accuracy    0.040104\n",
       "val_dense_4_accuracy    0.117292\n",
       "val_dense_5_accuracy    0.139583\n",
       "val_dense_6_accuracy    0.130000\n",
       "val_dense_7_accuracy    0.000000\n",
       "val_dense_accuracy      0.043854\n",
       "dtype: float64"
      ]
     },
     "execution_count": 66,
     "metadata": {},
     "output_type": "execute_result"
    }
   ],
   "source": [
    "inter = v3[val_acc]-v2[val_acc]\n",
    "inter.mean()"
   ]
  },
  {
   "cell_type": "code",
   "execution_count": 67,
   "metadata": {},
   "outputs": [
    {
     "name": "stdout",
     "output_type": "stream",
     "text": [
      "Total Improvement: 0.06879\n"
     ]
    }
   ],
   "source": [
    "print(f\"Total Improvement: {inter.mean().mean():.4}\")"
   ]
  },
  {
   "cell_type": "markdown",
   "metadata": {},
   "source": [
    "**v3 provides better validation accuracy for each layer prediction per epoch**"
   ]
  },
  {
   "cell_type": "code",
   "execution_count": null,
   "metadata": {},
   "outputs": [],
   "source": []
  },
  {
   "cell_type": "code",
   "execution_count": 73,
   "metadata": {},
   "outputs": [
    {
     "data": {
      "text/html": [
       "<div>\n",
       "<style scoped>\n",
       "    .dataframe tbody tr th:only-of-type {\n",
       "        vertical-align: middle;\n",
       "    }\n",
       "\n",
       "    .dataframe tbody tr th {\n",
       "        vertical-align: top;\n",
       "    }\n",
       "\n",
       "    .dataframe thead th {\n",
       "        text-align: right;\n",
       "    }\n",
       "</style>\n",
       "<table border=\"1\" class=\"dataframe\">\n",
       "  <thead>\n",
       "    <tr style=\"text-align: right;\">\n",
       "      <th></th>\n",
       "      <th>epoch</th>\n",
       "      <th>dense_1_loss</th>\n",
       "      <th>dense_2_loss</th>\n",
       "      <th>dense_3_loss</th>\n",
       "      <th>dense_4_loss</th>\n",
       "      <th>dense_5_loss</th>\n",
       "      <th>dense_6_loss</th>\n",
       "      <th>dense_7_loss</th>\n",
       "      <th>dense_loss</th>\n",
       "      <th>loss</th>\n",
       "    </tr>\n",
       "  </thead>\n",
       "  <tbody>\n",
       "    <tr>\n",
       "      <th>0</th>\n",
       "      <td>0</td>\n",
       "      <td>2.341075</td>\n",
       "      <td>2.337235</td>\n",
       "      <td>2.332877</td>\n",
       "      <td>1.643312</td>\n",
       "      <td>0.763215</td>\n",
       "      <td>0.837165</td>\n",
       "      <td>0.022902</td>\n",
       "      <td>2.331624</td>\n",
       "      <td>12.609408</td>\n",
       "    </tr>\n",
       "    <tr>\n",
       "      <th>1</th>\n",
       "      <td>1</td>\n",
       "      <td>2.333269</td>\n",
       "      <td>2.309236</td>\n",
       "      <td>2.315906</td>\n",
       "      <td>1.613552</td>\n",
       "      <td>0.682692</td>\n",
       "      <td>0.660943</td>\n",
       "      <td>0.000425</td>\n",
       "      <td>2.317188</td>\n",
       "      <td>12.233210</td>\n",
       "    </tr>\n",
       "    <tr>\n",
       "      <th>2</th>\n",
       "      <td>2</td>\n",
       "      <td>2.335443</td>\n",
       "      <td>2.292044</td>\n",
       "      <td>2.304415</td>\n",
       "      <td>1.592408</td>\n",
       "      <td>0.659208</td>\n",
       "      <td>0.629172</td>\n",
       "      <td>0.000316</td>\n",
       "      <td>2.324978</td>\n",
       "      <td>12.137985</td>\n",
       "    </tr>\n",
       "  </tbody>\n",
       "</table>\n",
       "</div>"
      ],
      "text/plain": [
       "   epoch  dense_1_loss  dense_2_loss  dense_3_loss  dense_4_loss  \\\n",
       "0      0      2.341075      2.337235      2.332877      1.643312   \n",
       "1      1      2.333269      2.309236      2.315906      1.613552   \n",
       "2      2      2.335443      2.292044      2.304415      1.592408   \n",
       "\n",
       "   dense_5_loss  dense_6_loss  dense_7_loss  dense_loss       loss  \n",
       "0      0.763215      0.837165      0.022902    2.331624  12.609408  \n",
       "1      0.682692      0.660943      0.000425    2.317188  12.233210  \n",
       "2      0.659208      0.629172      0.000316    2.324978  12.137985  "
      ]
     },
     "execution_count": 73,
     "metadata": {},
     "output_type": "execute_result"
    }
   ],
   "source": [
    "v2[loss_cols]"
   ]
  },
  {
   "cell_type": "code",
   "execution_count": 74,
   "metadata": {},
   "outputs": [
    {
     "data": {
      "text/html": [
       "<div>\n",
       "<style scoped>\n",
       "    .dataframe tbody tr th:only-of-type {\n",
       "        vertical-align: middle;\n",
       "    }\n",
       "\n",
       "    .dataframe tbody tr th {\n",
       "        vertical-align: top;\n",
       "    }\n",
       "\n",
       "    .dataframe thead th {\n",
       "        text-align: right;\n",
       "    }\n",
       "</style>\n",
       "<table border=\"1\" class=\"dataframe\">\n",
       "  <thead>\n",
       "    <tr style=\"text-align: right;\">\n",
       "      <th></th>\n",
       "      <th>epoch</th>\n",
       "      <th>dense_1_loss</th>\n",
       "      <th>dense_2_loss</th>\n",
       "      <th>dense_3_loss</th>\n",
       "      <th>dense_4_loss</th>\n",
       "      <th>dense_5_loss</th>\n",
       "      <th>dense_6_loss</th>\n",
       "      <th>dense_7_loss</th>\n",
       "      <th>dense_loss</th>\n",
       "      <th>loss</th>\n",
       "    </tr>\n",
       "  </thead>\n",
       "  <tbody>\n",
       "    <tr>\n",
       "      <th>0</th>\n",
       "      <td>0</td>\n",
       "      <td>2.336973</td>\n",
       "      <td>2.335892</td>\n",
       "      <td>2.331184</td>\n",
       "      <td>1.642135</td>\n",
       "      <td>0.790532</td>\n",
       "      <td>0.813815</td>\n",
       "      <td>0.022908</td>\n",
       "      <td>2.339236</td>\n",
       "      <td>12.612673</td>\n",
       "    </tr>\n",
       "    <tr>\n",
       "      <th>1</th>\n",
       "      <td>1</td>\n",
       "      <td>2.293458</td>\n",
       "      <td>2.276264</td>\n",
       "      <td>2.286196</td>\n",
       "      <td>1.551763</td>\n",
       "      <td>0.609693</td>\n",
       "      <td>0.552020</td>\n",
       "      <td>0.000694</td>\n",
       "      <td>2.287953</td>\n",
       "      <td>11.858041</td>\n",
       "    </tr>\n",
       "    <tr>\n",
       "      <th>2</th>\n",
       "      <td>2</td>\n",
       "      <td>2.241354</td>\n",
       "      <td>2.222708</td>\n",
       "      <td>2.247694</td>\n",
       "      <td>1.431534</td>\n",
       "      <td>0.514477</td>\n",
       "      <td>0.455145</td>\n",
       "      <td>0.000509</td>\n",
       "      <td>2.221784</td>\n",
       "      <td>11.335208</td>\n",
       "    </tr>\n",
       "  </tbody>\n",
       "</table>\n",
       "</div>"
      ],
      "text/plain": [
       "   epoch  dense_1_loss  dense_2_loss  dense_3_loss  dense_4_loss  \\\n",
       "0      0      2.336973      2.335892      2.331184      1.642135   \n",
       "1      1      2.293458      2.276264      2.286196      1.551763   \n",
       "2      2      2.241354      2.222708      2.247694      1.431534   \n",
       "\n",
       "   dense_5_loss  dense_6_loss  dense_7_loss  dense_loss       loss  \n",
       "0      0.790532      0.813815      0.022908    2.339236  12.612673  \n",
       "1      0.609693      0.552020      0.000694    2.287953  11.858041  \n",
       "2      0.514477      0.455145      0.000509    2.221784  11.335208  "
      ]
     },
     "execution_count": 74,
     "metadata": {},
     "output_type": "execute_result"
    }
   ],
   "source": [
    "v3[loss_cols]"
   ]
  },
  {
   "cell_type": "markdown",
   "metadata": {},
   "source": [
    "*Mean Loss Decrease per Layer*"
   ]
  },
  {
   "cell_type": "code",
   "execution_count": 75,
   "metadata": {},
   "outputs": [
    {
     "data": {
      "text/plain": [
       "epoch           0.000000\n",
       "dense_1_loss   -0.046000\n",
       "dense_2_loss   -0.034550\n",
       "dense_3_loss   -0.029375\n",
       "dense_4_loss   -0.074613\n",
       "dense_5_loss   -0.063471\n",
       "dense_6_loss   -0.102100\n",
       "dense_7_loss    0.000156\n",
       "dense_loss     -0.041606\n",
       "loss           -0.391561\n",
       "dtype: float64"
      ]
     },
     "execution_count": 75,
     "metadata": {},
     "output_type": "execute_result"
    }
   ],
   "source": [
    "inter = v3[loss_cols]-v2[loss_cols]\n",
    "inter.mean()"
   ]
  },
  {
   "cell_type": "code",
   "execution_count": 76,
   "metadata": {},
   "outputs": [
    {
     "name": "stdout",
     "output_type": "stream",
     "text": [
      "Total Loss Decrease: -0.07831\n"
     ]
    }
   ],
   "source": [
    "print(f\"Total Loss Decrease: {inter.mean().mean():.4}\")"
   ]
  },
  {
   "cell_type": "code",
   "execution_count": null,
   "metadata": {},
   "outputs": [],
   "source": []
  },
  {
   "cell_type": "code",
   "execution_count": 68,
   "metadata": {},
   "outputs": [
    {
     "data": {
      "text/html": [
       "<div>\n",
       "<style scoped>\n",
       "    .dataframe tbody tr th:only-of-type {\n",
       "        vertical-align: middle;\n",
       "    }\n",
       "\n",
       "    .dataframe tbody tr th {\n",
       "        vertical-align: top;\n",
       "    }\n",
       "\n",
       "    .dataframe thead th {\n",
       "        text-align: right;\n",
       "    }\n",
       "</style>\n",
       "<table border=\"1\" class=\"dataframe\">\n",
       "  <thead>\n",
       "    <tr style=\"text-align: right;\">\n",
       "      <th></th>\n",
       "      <th>val_dense_1_loss</th>\n",
       "      <th>val_dense_2_loss</th>\n",
       "      <th>val_dense_3_loss</th>\n",
       "      <th>val_dense_4_loss</th>\n",
       "      <th>val_dense_5_loss</th>\n",
       "      <th>val_dense_6_loss</th>\n",
       "      <th>val_dense_7_loss</th>\n",
       "      <th>val_dense_loss</th>\n",
       "      <th>val_loss</th>\n",
       "    </tr>\n",
       "  </thead>\n",
       "  <tbody>\n",
       "    <tr>\n",
       "      <th>0</th>\n",
       "      <td>2.316633</td>\n",
       "      <td>2.321096</td>\n",
       "      <td>2.316359</td>\n",
       "      <td>1.645101</td>\n",
       "      <td>0.691157</td>\n",
       "      <td>0.709103</td>\n",
       "      <td>0.000474</td>\n",
       "      <td>2.321125</td>\n",
       "      <td>12.321048</td>\n",
       "    </tr>\n",
       "    <tr>\n",
       "      <th>1</th>\n",
       "      <td>2.313920</td>\n",
       "      <td>2.316730</td>\n",
       "      <td>2.308610</td>\n",
       "      <td>1.634061</td>\n",
       "      <td>0.673144</td>\n",
       "      <td>0.642694</td>\n",
       "      <td>0.000384</td>\n",
       "      <td>2.317764</td>\n",
       "      <td>12.207306</td>\n",
       "    </tr>\n",
       "    <tr>\n",
       "      <th>2</th>\n",
       "      <td>2.339809</td>\n",
       "      <td>2.318988</td>\n",
       "      <td>2.304337</td>\n",
       "      <td>1.603652</td>\n",
       "      <td>0.641118</td>\n",
       "      <td>0.611043</td>\n",
       "      <td>0.000298</td>\n",
       "      <td>2.305162</td>\n",
       "      <td>12.124406</td>\n",
       "    </tr>\n",
       "  </tbody>\n",
       "</table>\n",
       "</div>"
      ],
      "text/plain": [
       "   val_dense_1_loss  val_dense_2_loss  val_dense_3_loss  val_dense_4_loss  \\\n",
       "0          2.316633          2.321096          2.316359          1.645101   \n",
       "1          2.313920          2.316730          2.308610          1.634061   \n",
       "2          2.339809          2.318988          2.304337          1.603652   \n",
       "\n",
       "   val_dense_5_loss  val_dense_6_loss  val_dense_7_loss  val_dense_loss  \\\n",
       "0          0.691157          0.709103          0.000474        2.321125   \n",
       "1          0.673144          0.642694          0.000384        2.317764   \n",
       "2          0.641118          0.611043          0.000298        2.305162   \n",
       "\n",
       "    val_loss  \n",
       "0  12.321048  \n",
       "1  12.207306  \n",
       "2  12.124406  "
      ]
     },
     "execution_count": 68,
     "metadata": {},
     "output_type": "execute_result"
    }
   ],
   "source": [
    "v2[val_loss]"
   ]
  },
  {
   "cell_type": "code",
   "execution_count": 69,
   "metadata": {},
   "outputs": [
    {
     "data": {
      "text/html": [
       "<div>\n",
       "<style scoped>\n",
       "    .dataframe tbody tr th:only-of-type {\n",
       "        vertical-align: middle;\n",
       "    }\n",
       "\n",
       "    .dataframe tbody tr th {\n",
       "        vertical-align: top;\n",
       "    }\n",
       "\n",
       "    .dataframe thead th {\n",
       "        text-align: right;\n",
       "    }\n",
       "</style>\n",
       "<table border=\"1\" class=\"dataframe\">\n",
       "  <thead>\n",
       "    <tr style=\"text-align: right;\">\n",
       "      <th></th>\n",
       "      <th>val_dense_1_loss</th>\n",
       "      <th>val_dense_2_loss</th>\n",
       "      <th>val_dense_3_loss</th>\n",
       "      <th>val_dense_4_loss</th>\n",
       "      <th>val_dense_5_loss</th>\n",
       "      <th>val_dense_6_loss</th>\n",
       "      <th>val_dense_7_loss</th>\n",
       "      <th>val_dense_loss</th>\n",
       "      <th>val_loss</th>\n",
       "    </tr>\n",
       "  </thead>\n",
       "  <tbody>\n",
       "    <tr>\n",
       "      <th>0</th>\n",
       "      <td>2.321014</td>\n",
       "      <td>2.317062</td>\n",
       "      <td>2.298457</td>\n",
       "      <td>1.585629</td>\n",
       "      <td>0.661359</td>\n",
       "      <td>0.694370</td>\n",
       "      <td>0.000747</td>\n",
       "      <td>2.314019</td>\n",
       "      <td>12.192660</td>\n",
       "    </tr>\n",
       "    <tr>\n",
       "      <th>1</th>\n",
       "      <td>2.280861</td>\n",
       "      <td>2.276112</td>\n",
       "      <td>2.274319</td>\n",
       "      <td>1.536152</td>\n",
       "      <td>0.569861</td>\n",
       "      <td>0.489693</td>\n",
       "      <td>0.000733</td>\n",
       "      <td>2.272596</td>\n",
       "      <td>11.700329</td>\n",
       "    </tr>\n",
       "    <tr>\n",
       "      <th>2</th>\n",
       "      <td>2.250011</td>\n",
       "      <td>2.229839</td>\n",
       "      <td>2.241385</td>\n",
       "      <td>1.401213</td>\n",
       "      <td>0.462808</td>\n",
       "      <td>0.395725</td>\n",
       "      <td>0.000337</td>\n",
       "      <td>2.217527</td>\n",
       "      <td>11.198845</td>\n",
       "    </tr>\n",
       "  </tbody>\n",
       "</table>\n",
       "</div>"
      ],
      "text/plain": [
       "   val_dense_1_loss  val_dense_2_loss  val_dense_3_loss  val_dense_4_loss  \\\n",
       "0          2.321014          2.317062          2.298457          1.585629   \n",
       "1          2.280861          2.276112          2.274319          1.536152   \n",
       "2          2.250011          2.229839          2.241385          1.401213   \n",
       "\n",
       "   val_dense_5_loss  val_dense_6_loss  val_dense_7_loss  val_dense_loss  \\\n",
       "0          0.661359          0.694370          0.000747        2.314019   \n",
       "1          0.569861          0.489693          0.000733        2.272596   \n",
       "2          0.462808          0.395725          0.000337        2.217527   \n",
       "\n",
       "    val_loss  \n",
       "0  12.192660  \n",
       "1  11.700329  \n",
       "2  11.198845  "
      ]
     },
     "execution_count": 69,
     "metadata": {},
     "output_type": "execute_result"
    }
   ],
   "source": [
    "v3[val_loss]"
   ]
  },
  {
   "cell_type": "markdown",
   "metadata": {},
   "source": [
    "*Mean Loss Decrease per Layer*"
   ]
  },
  {
   "cell_type": "code",
   "execution_count": 70,
   "metadata": {},
   "outputs": [
    {
     "data": {
      "text/plain": [
       "val_dense_1_loss   -0.039492\n",
       "val_dense_2_loss   -0.044600\n",
       "val_dense_3_loss   -0.038382\n",
       "val_dense_4_loss   -0.119940\n",
       "val_dense_5_loss   -0.103797\n",
       "val_dense_6_loss   -0.127684\n",
       "val_dense_7_loss    0.000220\n",
       "val_dense_loss     -0.046636\n",
       "val_loss           -0.520308\n",
       "dtype: float64"
      ]
     },
     "execution_count": 70,
     "metadata": {},
     "output_type": "execute_result"
    }
   ],
   "source": [
    "inter = v3[val_loss]-v2[val_loss]\n",
    "inter.mean()"
   ]
  },
  {
   "cell_type": "code",
   "execution_count": 71,
   "metadata": {},
   "outputs": [
    {
     "name": "stdout",
     "output_type": "stream",
     "text": [
      "Total Loss Decrease: -0.1156\n"
     ]
    }
   ],
   "source": [
    "print(f\"Total Loss Decrease: {inter.mean().mean():.4}\")"
   ]
  },
  {
   "cell_type": "code",
   "execution_count": null,
   "metadata": {},
   "outputs": [],
   "source": []
  }
 ],
 "metadata": {
  "kernelspec": {
   "display_name": "Python 3",
   "language": "python",
   "name": "python3"
  },
  "language_info": {
   "codemirror_mode": {
    "name": "ipython",
    "version": 3
   },
   "file_extension": ".py",
   "mimetype": "text/x-python",
   "name": "python",
   "nbconvert_exporter": "python",
   "pygments_lexer": "ipython3",
   "version": "3.7.0"
  },
  "toc": {
   "base_numbering": 1,
   "nav_menu": {},
   "number_sections": true,
   "sideBar": true,
   "skip_h1_title": false,
   "title_cell": "Table of Contents",
   "title_sidebar": "Contents",
   "toc_cell": false,
   "toc_position": {},
   "toc_section_display": true,
   "toc_window_display": false
  }
 },
 "nbformat": 4,
 "nbformat_minor": 4
}
