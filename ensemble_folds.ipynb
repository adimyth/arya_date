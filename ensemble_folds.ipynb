{
 "metadata": {
  "language_info": {
   "codemirror_mode": {
    "name": "ipython",
    "version": 3
   },
   "file_extension": ".py",
   "mimetype": "text/x-python",
   "name": "python",
   "nbconvert_exporter": "python",
   "pygments_lexer": "ipython3",
   "version": "3.7.0-final"
  },
  "orig_nbformat": 2,
  "kernelspec": {
   "name": "Python 3.7.0 64-bit",
   "display_name": "Python 3.7.0 64-bit",
   "metadata": {
    "interpreter": {
     "hash": "c5b0599a0eaf89e4066b883ebea848e41a01e6c449877cb30e3c0fa66ea43eed"
    }
   }
  }
 },
 "nbformat": 4,
 "nbformat_minor": 2,
 "cells": [
  {
   "source": [
    "# Merging all folds test prediction"
   ],
   "cell_type": "markdown",
   "metadata": {}
  },
  {
   "cell_type": "code",
   "execution_count": 4,
   "metadata": {},
   "outputs": [],
   "source": [
    "from collections import Counter\n",
    "import pandas as pd"
   ]
  },
  {
   "cell_type": "code",
   "execution_count": 2,
   "metadata": {},
   "outputs": [],
   "source": [
    "df1 = pd.read_csv(\"submissions/submission_fold_0.csv\", dtype=str).rename(columns={\"label\": \"label1\"})\n",
    "df2 = pd.read_csv(\"submissions/submission_fold_1.csv\", dtype=str).rename(columns={\"label\": \"label2\"})\n",
    "df3 = pd.read_csv(\"submissions/submission_fold_2.csv\", dtype=str).rename(columns={\"label\": \"label3\"})\n",
    "df4 = pd.read_csv(\"submissions/submission_fold_3.csv\", dtype=str).rename(columns={\"label\": \"label4\"})\n",
    "df5 = pd.read_csv(\"submissions/submission_fold_4.csv\", dtype=str).rename(columns={\"label\": \"label5\"})"
   ]
  },
  {
   "cell_type": "code",
   "execution_count": 3,
   "metadata": {},
   "outputs": [],
   "source": [
    "df1 = df1.merge(df2)\n",
    "df1 = df1.merge(df3)\n",
    "df1 = df1.merge(df4)\n",
    "df1 = df1.merge(df5)"
   ]
  },
  {
   "cell_type": "code",
   "execution_count": 4,
   "metadata": {},
   "outputs": [],
   "source": [
    "del df2, df3, df4, df5"
   ]
  },
  {
   "cell_type": "code",
   "execution_count": 5,
   "metadata": {},
   "outputs": [
    {
     "output_type": "execute_result",
     "data": {
      "text/plain": [
       "(1000, 6)"
      ]
     },
     "metadata": {},
     "execution_count": 5
    }
   ],
   "source": [
    "df1.shape"
   ]
  },
  {
   "cell_type": "code",
   "execution_count": null,
   "metadata": {},
   "outputs": [],
   "source": []
  },
  {
   "source": [
    "## Majority Voting\n",
    "All cases where atleast 3 or more models make same prediction"
   ],
   "cell_type": "markdown",
   "metadata": {}
  },
  {
   "cell_type": "code",
   "execution_count": 6,
   "metadata": {},
   "outputs": [],
   "source": [
    "label_cols = [\"label1\", \"label2\", \"label3\", \"label4\", \"label5\"]"
   ]
  },
  {
   "cell_type": "code",
   "execution_count": 7,
   "metadata": {},
   "outputs": [],
   "source": [
    "df1[\"num_matches\"] = df1[label_cols].apply(lambda x: Counter(x.values).most_common()[0][1], axis=1)\n",
    "df1[\"most_frequent\"] = df1[label_cols].mode(axis=1)[0]"
   ]
  },
  {
   "cell_type": "code",
   "execution_count": 8,
   "metadata": {},
   "outputs": [
    {
     "output_type": "execute_result",
     "data": {
      "text/plain": [
       "5    451\n",
       "3    196\n",
       "2    162\n",
       "4    158\n",
       "1     33\n",
       "Name: num_matches, dtype: int64"
      ]
     },
     "metadata": {},
     "execution_count": 8
    }
   ],
   "source": [
    "df1[\"num_matches\"].value_counts()"
   ]
  },
  {
   "cell_type": "code",
   "execution_count": 9,
   "metadata": {},
   "outputs": [
    {
     "output_type": "execute_result",
     "data": {
      "text/plain": [
       "8    805\n",
       "Name: most_frequent, dtype: int64"
      ]
     },
     "metadata": {},
     "execution_count": 9
    }
   ],
   "source": [
    "df1.loc[df1[\"num_matches\"]>=3][\"most_frequent\"].str.len().value_counts()"
   ]
  },
  {
   "cell_type": "code",
   "execution_count": 10,
   "metadata": {},
   "outputs": [
    {
     "output_type": "execute_result",
     "data": {
      "text/plain": [
       "     tag    label1    label2    label3    label4    label5  num_matches  \\\n",
       "544  482  31260381  31260381  31260351  31260381  31266381            3   \n",
       "941  428  37173066  37173066  37173066  37730686  37173066            4   \n",
       "682   24  50092871  50092871  50092871  50092871  50092871            5   \n",
       "766    2  79182781  79182781  79182781  79182781  79182781            5   \n",
       "761  682  43624735  43629735  43629735  43629731  43629735            3   \n",
       "\n",
       "    most_frequent  \n",
       "544      31260381  \n",
       "941      37173066  \n",
       "682      50092871  \n",
       "766      79182781  \n",
       "761      43629735  "
      ],
      "text/html": "<div>\n<style scoped>\n    .dataframe tbody tr th:only-of-type {\n        vertical-align: middle;\n    }\n\n    .dataframe tbody tr th {\n        vertical-align: top;\n    }\n\n    .dataframe thead th {\n        text-align: right;\n    }\n</style>\n<table border=\"1\" class=\"dataframe\">\n  <thead>\n    <tr style=\"text-align: right;\">\n      <th></th>\n      <th>tag</th>\n      <th>label1</th>\n      <th>label2</th>\n      <th>label3</th>\n      <th>label4</th>\n      <th>label5</th>\n      <th>num_matches</th>\n      <th>most_frequent</th>\n    </tr>\n  </thead>\n  <tbody>\n    <tr>\n      <th>544</th>\n      <td>482</td>\n      <td>31260381</td>\n      <td>31260381</td>\n      <td>31260351</td>\n      <td>31260381</td>\n      <td>31266381</td>\n      <td>3</td>\n      <td>31260381</td>\n    </tr>\n    <tr>\n      <th>941</th>\n      <td>428</td>\n      <td>37173066</td>\n      <td>37173066</td>\n      <td>37173066</td>\n      <td>37730686</td>\n      <td>37173066</td>\n      <td>4</td>\n      <td>37173066</td>\n    </tr>\n    <tr>\n      <th>682</th>\n      <td>24</td>\n      <td>50092871</td>\n      <td>50092871</td>\n      <td>50092871</td>\n      <td>50092871</td>\n      <td>50092871</td>\n      <td>5</td>\n      <td>50092871</td>\n    </tr>\n    <tr>\n      <th>766</th>\n      <td>2</td>\n      <td>79182781</td>\n      <td>79182781</td>\n      <td>79182781</td>\n      <td>79182781</td>\n      <td>79182781</td>\n      <td>5</td>\n      <td>79182781</td>\n    </tr>\n    <tr>\n      <th>761</th>\n      <td>682</td>\n      <td>43624735</td>\n      <td>43629735</td>\n      <td>43629735</td>\n      <td>43629731</td>\n      <td>43629735</td>\n      <td>3</td>\n      <td>43629735</td>\n    </tr>\n  </tbody>\n</table>\n</div>"
     },
     "metadata": {},
     "execution_count": 10
    }
   ],
   "source": [
    "df1.loc[df1[\"num_matches\"]>=3].sample(n=5)"
   ]
  },
  {
   "cell_type": "code",
   "execution_count": 11,
   "metadata": {},
   "outputs": [
    {
     "output_type": "execute_result",
     "data": {
      "text/plain": [
       "     tag    label1    label2    label3      label4    label5  num_matches  \\\n",
       "604  880  71563781  71563781  71563481    71563781  71563481            3   \n",
       "605  362  78482881  78442881  78412881    78442881  78442881            3   \n",
       "106  437  11582781  11554781  11584771    11584771  11584771            3   \n",
       "394  624  53820771  53826791  53820771    53820781  53820771            3   \n",
       "925  859  78378735  78378735  78378735  7837873151  78378731            3   \n",
       "\n",
       "    most_frequent  \n",
       "604      71563781  \n",
       "605      78442881  \n",
       "106      11584771  \n",
       "394      53820771  \n",
       "925      78378735  "
      ],
      "text/html": "<div>\n<style scoped>\n    .dataframe tbody tr th:only-of-type {\n        vertical-align: middle;\n    }\n\n    .dataframe tbody tr th {\n        vertical-align: top;\n    }\n\n    .dataframe thead th {\n        text-align: right;\n    }\n</style>\n<table border=\"1\" class=\"dataframe\">\n  <thead>\n    <tr style=\"text-align: right;\">\n      <th></th>\n      <th>tag</th>\n      <th>label1</th>\n      <th>label2</th>\n      <th>label3</th>\n      <th>label4</th>\n      <th>label5</th>\n      <th>num_matches</th>\n      <th>most_frequent</th>\n    </tr>\n  </thead>\n  <tbody>\n    <tr>\n      <th>604</th>\n      <td>880</td>\n      <td>71563781</td>\n      <td>71563781</td>\n      <td>71563481</td>\n      <td>71563781</td>\n      <td>71563481</td>\n      <td>3</td>\n      <td>71563781</td>\n    </tr>\n    <tr>\n      <th>605</th>\n      <td>362</td>\n      <td>78482881</td>\n      <td>78442881</td>\n      <td>78412881</td>\n      <td>78442881</td>\n      <td>78442881</td>\n      <td>3</td>\n      <td>78442881</td>\n    </tr>\n    <tr>\n      <th>106</th>\n      <td>437</td>\n      <td>11582781</td>\n      <td>11554781</td>\n      <td>11584771</td>\n      <td>11584771</td>\n      <td>11584771</td>\n      <td>3</td>\n      <td>11584771</td>\n    </tr>\n    <tr>\n      <th>394</th>\n      <td>624</td>\n      <td>53820771</td>\n      <td>53826791</td>\n      <td>53820771</td>\n      <td>53820781</td>\n      <td>53820771</td>\n      <td>3</td>\n      <td>53820771</td>\n    </tr>\n    <tr>\n      <th>925</th>\n      <td>859</td>\n      <td>78378735</td>\n      <td>78378735</td>\n      <td>78378735</td>\n      <td>7837873151</td>\n      <td>78378731</td>\n      <td>3</td>\n      <td>78378735</td>\n    </tr>\n  </tbody>\n</table>\n</div>"
     },
     "metadata": {},
     "execution_count": 11
    }
   ],
   "source": [
    "df1.loc[df1[\"num_matches\"]==3].sample(n=5)"
   ]
  },
  {
   "source": [
    "**These cases look okayish**"
   ],
   "cell_type": "markdown",
   "metadata": {}
  },
  {
   "cell_type": "code",
   "execution_count": 12,
   "metadata": {},
   "outputs": [
    {
     "output_type": "execute_result",
     "data": {
      "text/plain": [
       "     tag    label1    label2    label3      label4    label5  num_matches  \\\n",
       "3    779  64988081  64998071  64988004    64988001  64988081            2   \n",
       "539  638  16786680  16786600  16786660    16786681  16786681            2   \n",
       "111  993  51586865  51596865  51586865  5159688151  55968659            2   \n",
       "815  657   9974871  99748311  99748371    99748311  99746311            2   \n",
       "13   855  44036881  44036861  44036761    44036981  44036981            2   \n",
       "\n",
       "    most_frequent  \n",
       "3        64988081  \n",
       "539      16786681  \n",
       "111      51586865  \n",
       "815      99748311  \n",
       "13       44036981  "
      ],
      "text/html": "<div>\n<style scoped>\n    .dataframe tbody tr th:only-of-type {\n        vertical-align: middle;\n    }\n\n    .dataframe tbody tr th {\n        vertical-align: top;\n    }\n\n    .dataframe thead th {\n        text-align: right;\n    }\n</style>\n<table border=\"1\" class=\"dataframe\">\n  <thead>\n    <tr style=\"text-align: right;\">\n      <th></th>\n      <th>tag</th>\n      <th>label1</th>\n      <th>label2</th>\n      <th>label3</th>\n      <th>label4</th>\n      <th>label5</th>\n      <th>num_matches</th>\n      <th>most_frequent</th>\n    </tr>\n  </thead>\n  <tbody>\n    <tr>\n      <th>3</th>\n      <td>779</td>\n      <td>64988081</td>\n      <td>64998071</td>\n      <td>64988004</td>\n      <td>64988001</td>\n      <td>64988081</td>\n      <td>2</td>\n      <td>64988081</td>\n    </tr>\n    <tr>\n      <th>539</th>\n      <td>638</td>\n      <td>16786680</td>\n      <td>16786600</td>\n      <td>16786660</td>\n      <td>16786681</td>\n      <td>16786681</td>\n      <td>2</td>\n      <td>16786681</td>\n    </tr>\n    <tr>\n      <th>111</th>\n      <td>993</td>\n      <td>51586865</td>\n      <td>51596865</td>\n      <td>51586865</td>\n      <td>5159688151</td>\n      <td>55968659</td>\n      <td>2</td>\n      <td>51586865</td>\n    </tr>\n    <tr>\n      <th>815</th>\n      <td>657</td>\n      <td>9974871</td>\n      <td>99748311</td>\n      <td>99748371</td>\n      <td>99748311</td>\n      <td>99746311</td>\n      <td>2</td>\n      <td>99748311</td>\n    </tr>\n    <tr>\n      <th>13</th>\n      <td>855</td>\n      <td>44036881</td>\n      <td>44036861</td>\n      <td>44036761</td>\n      <td>44036981</td>\n      <td>44036981</td>\n      <td>2</td>\n      <td>44036981</td>\n    </tr>\n  </tbody>\n</table>\n</div>"
     },
     "metadata": {},
     "execution_count": 12
    }
   ],
   "source": [
    "df1.loc[df1[\"num_matches\"]<3].sample(n=5)"
   ]
  },
  {
   "cell_type": "code",
   "execution_count": 13,
   "metadata": {},
   "outputs": [],
   "source": [
    "part1 = df1.loc[df1[\"num_matches\"]>=3]"
   ]
  },
  {
   "cell_type": "code",
   "execution_count": 14,
   "metadata": {},
   "outputs": [],
   "source": [
    "part2 = df1.loc[df1[\"num_matches\"]<3]"
   ]
  },
  {
   "cell_type": "code",
   "execution_count": null,
   "metadata": {},
   "outputs": [],
   "source": []
  },
  {
   "source": [
    "## Analysis"
   ],
   "cell_type": "markdown",
   "metadata": {}
  },
  {
   "cell_type": "code",
   "execution_count": 15,
   "metadata": {},
   "outputs": [
    {
     "output_type": "execute_result",
     "data": {
      "text/plain": [
       "8     996\n",
       "10      3\n",
       "7       1\n",
       "Name: most_frequent, dtype: int64"
      ]
     },
     "metadata": {},
     "execution_count": 15
    }
   ],
   "source": [
    "df1[\"most_frequent\"].str.len().value_counts()"
   ]
  },
  {
   "cell_type": "code",
   "execution_count": 16,
   "metadata": {},
   "outputs": [],
   "source": [
    "for col in label_cols:\n",
    "    df1[f\"{col}_length\"] = df1[col].astype(str).str.len()"
   ]
  },
  {
   "cell_type": "code",
   "execution_count": 17,
   "metadata": {},
   "outputs": [
    {
     "output_type": "stream",
     "name": "stdout",
     "text": [
      "label1\n8     969\n10     21\n7       8\n17      1\n11      1\nName: label1_length, dtype: int64\n\nlabel2\n8     994\n10      3\n7       2\n17      1\nName: label2_length, dtype: int64\n\nlabel3\n8     992\n10      6\n17      2\nName: label3_length, dtype: int64\n\nlabel4\n8     959\n10     39\n17      1\n11      1\nName: label4_length, dtype: int64\n\nlabel5\n8     986\n10     10\n17      4\nName: label5_length, dtype: int64\n\n"
     ]
    }
   ],
   "source": [
    "for col in label_cols:\n",
    "    print(col)\n",
    "    print(df1[f\"{col}_length\"].value_counts(), end=\"\\n\\n\")"
   ]
  },
  {
   "source": [
    "## Character wise majority voting"
   ],
   "cell_type": "markdown",
   "metadata": {}
  },
  {
   "cell_type": "code",
   "execution_count": 18,
   "metadata": {},
   "outputs": [],
   "source": [
    "def get_pred(values):\n",
    "    pred = \"\"\n",
    "    # ignore cases where prediction isn't of length 8\n",
    "    values = [val for val in values if len(val)==8]\n",
    "    try:\n",
    "        for idx in range(8):\n",
    "            pred += Counter([val[idx] for val in values]).most_common(1)[0][0]\n",
    "    except Exception:\n",
    "        pass\n",
    "    return pred "
   ]
  },
  {
   "cell_type": "code",
   "execution_count": 19,
   "metadata": {},
   "outputs": [],
   "source": [
    "part2[\"most_frequent_after\"] = part2[label_cols].apply(lambda x: get_pred(x.values.tolist()), axis=1)"
   ]
  },
  {
   "cell_type": "code",
   "execution_count": 20,
   "metadata": {},
   "outputs": [
    {
     "output_type": "execute_result",
     "data": {
      "text/plain": [
       "(103, 9)"
      ]
     },
     "metadata": {},
     "execution_count": 20
    }
   ],
   "source": [
    "part2.loc[part2['most_frequent']==part2['most_frequent_after']].shape"
   ]
  },
  {
   "cell_type": "code",
   "execution_count": 21,
   "metadata": {},
   "outputs": [
    {
     "output_type": "execute_result",
     "data": {
      "text/plain": [
       "(92, 9)"
      ]
     },
     "metadata": {},
     "execution_count": 21
    }
   ],
   "source": [
    "part2.loc[part2['most_frequent']!=part2['most_frequent_after']].shape"
   ]
  },
  {
   "cell_type": "code",
   "execution_count": 22,
   "metadata": {},
   "outputs": [
    {
     "output_type": "execute_result",
     "data": {
      "text/plain": [
       "     tag    label1      label2      label3    label4    label5  num_matches  \\\n",
       "561  265  62862871    62860871    62862871  62262871  62860871            2   \n",
       "615  487  47188774    47188774    47188194  47188194  47188874            2   \n",
       "825  610  14281875  1428187515    14281871  14281871  14281875            2   \n",
       "719  706   9839371    98393781    98393771  98393711  98893781            1   \n",
       "18   774  72288670    72288610  7228861101  72288611  72288671            1   \n",
       "668  777  20560771    20560771    20560747  20560781  20560747            2   \n",
       "786  871  80769081     8069081    80769031  80069081  88769681            1   \n",
       "713  949  72793968    72793861    72793966  72793981  72793981            2   \n",
       "782  977  20810741    30810941    20810941  20810981  20810971            1   \n",
       "211  990  42520878    42520871    42520818  42520818  42520878            2   \n",
       "\n",
       "    most_frequent most_frequent_after  \n",
       "561      62860871            62862871  \n",
       "615      47188194            47188774  \n",
       "825      14281871            14281875  \n",
       "719       9839371            98393781  \n",
       "18       72288610            72288670  \n",
       "668      20560747            20560771  \n",
       "786      80069081            80769081  \n",
       "713      72793981            72793961  \n",
       "782      20810741            20810941  \n",
       "211      42520818            42520878  "
      ],
      "text/html": "<div>\n<style scoped>\n    .dataframe tbody tr th:only-of-type {\n        vertical-align: middle;\n    }\n\n    .dataframe tbody tr th {\n        vertical-align: top;\n    }\n\n    .dataframe thead th {\n        text-align: right;\n    }\n</style>\n<table border=\"1\" class=\"dataframe\">\n  <thead>\n    <tr style=\"text-align: right;\">\n      <th></th>\n      <th>tag</th>\n      <th>label1</th>\n      <th>label2</th>\n      <th>label3</th>\n      <th>label4</th>\n      <th>label5</th>\n      <th>num_matches</th>\n      <th>most_frequent</th>\n      <th>most_frequent_after</th>\n    </tr>\n  </thead>\n  <tbody>\n    <tr>\n      <th>561</th>\n      <td>265</td>\n      <td>62862871</td>\n      <td>62860871</td>\n      <td>62862871</td>\n      <td>62262871</td>\n      <td>62860871</td>\n      <td>2</td>\n      <td>62860871</td>\n      <td>62862871</td>\n    </tr>\n    <tr>\n      <th>615</th>\n      <td>487</td>\n      <td>47188774</td>\n      <td>47188774</td>\n      <td>47188194</td>\n      <td>47188194</td>\n      <td>47188874</td>\n      <td>2</td>\n      <td>47188194</td>\n      <td>47188774</td>\n    </tr>\n    <tr>\n      <th>825</th>\n      <td>610</td>\n      <td>14281875</td>\n      <td>1428187515</td>\n      <td>14281871</td>\n      <td>14281871</td>\n      <td>14281875</td>\n      <td>2</td>\n      <td>14281871</td>\n      <td>14281875</td>\n    </tr>\n    <tr>\n      <th>719</th>\n      <td>706</td>\n      <td>9839371</td>\n      <td>98393781</td>\n      <td>98393771</td>\n      <td>98393711</td>\n      <td>98893781</td>\n      <td>1</td>\n      <td>9839371</td>\n      <td>98393781</td>\n    </tr>\n    <tr>\n      <th>18</th>\n      <td>774</td>\n      <td>72288670</td>\n      <td>72288610</td>\n      <td>7228861101</td>\n      <td>72288611</td>\n      <td>72288671</td>\n      <td>1</td>\n      <td>72288610</td>\n      <td>72288670</td>\n    </tr>\n    <tr>\n      <th>668</th>\n      <td>777</td>\n      <td>20560771</td>\n      <td>20560771</td>\n      <td>20560747</td>\n      <td>20560781</td>\n      <td>20560747</td>\n      <td>2</td>\n      <td>20560747</td>\n      <td>20560771</td>\n    </tr>\n    <tr>\n      <th>786</th>\n      <td>871</td>\n      <td>80769081</td>\n      <td>8069081</td>\n      <td>80769031</td>\n      <td>80069081</td>\n      <td>88769681</td>\n      <td>1</td>\n      <td>80069081</td>\n      <td>80769081</td>\n    </tr>\n    <tr>\n      <th>713</th>\n      <td>949</td>\n      <td>72793968</td>\n      <td>72793861</td>\n      <td>72793966</td>\n      <td>72793981</td>\n      <td>72793981</td>\n      <td>2</td>\n      <td>72793981</td>\n      <td>72793961</td>\n    </tr>\n    <tr>\n      <th>782</th>\n      <td>977</td>\n      <td>20810741</td>\n      <td>30810941</td>\n      <td>20810941</td>\n      <td>20810981</td>\n      <td>20810971</td>\n      <td>1</td>\n      <td>20810741</td>\n      <td>20810941</td>\n    </tr>\n    <tr>\n      <th>211</th>\n      <td>990</td>\n      <td>42520878</td>\n      <td>42520871</td>\n      <td>42520818</td>\n      <td>42520818</td>\n      <td>42520878</td>\n      <td>2</td>\n      <td>42520818</td>\n      <td>42520878</td>\n    </tr>\n  </tbody>\n</table>\n</div>"
     },
     "metadata": {},
     "execution_count": 22
    }
   ],
   "source": [
    "part2.loc[part2['most_frequent']!=part2['most_frequent_after']].sample(n=10).sort_values(by=\"tag\")"
   ]
  },
  {
   "cell_type": "code",
   "execution_count": null,
   "metadata": {},
   "outputs": [],
   "source": []
  },
  {
   "source": [
    "### Combining both parts"
   ],
   "cell_type": "markdown",
   "metadata": {}
  },
  {
   "cell_type": "code",
   "execution_count": 23,
   "metadata": {},
   "outputs": [],
   "source": [
    "part2[\"most_frequent\"] = part2[\"most_frequent_after\"]"
   ]
  },
  {
   "cell_type": "code",
   "execution_count": 24,
   "metadata": {},
   "outputs": [],
   "source": [
    "df = part1[[\"tag\", \"most_frequent\"]].append(part2[[\"tag\", \"most_frequent\"]])"
   ]
  },
  {
   "cell_type": "code",
   "execution_count": 25,
   "metadata": {},
   "outputs": [],
   "source": [
    "df = df.rename(columns={\"most_frequent\": \"label\"})"
   ]
  },
  {
   "cell_type": "code",
   "execution_count": 26,
   "metadata": {},
   "outputs": [
    {
     "output_type": "execute_result",
     "data": {
      "text/plain": [
       "   tag     label\n",
       "0  667  15217246\n",
       "1  733  95520653\n",
       "4  775  16960812\n",
       "5  304  46164771\n",
       "7  307  20242781"
      ],
      "text/html": "<div>\n<style scoped>\n    .dataframe tbody tr th:only-of-type {\n        vertical-align: middle;\n    }\n\n    .dataframe tbody tr th {\n        vertical-align: top;\n    }\n\n    .dataframe thead th {\n        text-align: right;\n    }\n</style>\n<table border=\"1\" class=\"dataframe\">\n  <thead>\n    <tr style=\"text-align: right;\">\n      <th></th>\n      <th>tag</th>\n      <th>label</th>\n    </tr>\n  </thead>\n  <tbody>\n    <tr>\n      <th>0</th>\n      <td>667</td>\n      <td>15217246</td>\n    </tr>\n    <tr>\n      <th>1</th>\n      <td>733</td>\n      <td>95520653</td>\n    </tr>\n    <tr>\n      <th>4</th>\n      <td>775</td>\n      <td>16960812</td>\n    </tr>\n    <tr>\n      <th>5</th>\n      <td>304</td>\n      <td>46164771</td>\n    </tr>\n    <tr>\n      <th>7</th>\n      <td>307</td>\n      <td>20242781</td>\n    </tr>\n  </tbody>\n</table>\n</div>"
     },
     "metadata": {},
     "execution_count": 26
    }
   ],
   "source": [
    "df.head()"
   ]
  },
  {
   "cell_type": "code",
   "execution_count": 27,
   "metadata": {},
   "outputs": [
    {
     "output_type": "execute_result",
     "data": {
      "text/plain": [
       "8    1000\n",
       "Name: label, dtype: int64"
      ]
     },
     "metadata": {},
     "execution_count": 27
    }
   ],
   "source": [
    "df[\"label\"].str.len().value_counts()"
   ]
  },
  {
   "cell_type": "code",
   "execution_count": null,
   "metadata": {},
   "outputs": [],
   "source": []
  },
  {
   "source": [
    "### Submission"
   ],
   "cell_type": "markdown",
   "metadata": {}
  },
  {
   "cell_type": "code",
   "execution_count": 1,
   "metadata": {},
   "outputs": [],
   "source": [
    "import requests\n",
    "from pprint import pprint"
   ]
  },
  {
   "cell_type": "code",
   "execution_count": 2,
   "metadata": {},
   "outputs": [],
   "source": [
    "PUBLIC_host = \"http://13.234.225.243\"\n",
    "SUBMISSION_URL = PUBLIC_host + \":8080/submit\"\n",
    "LEADERBOARD_URL = PUBLIC_host + \":8080/leaderboard\""
   ]
  },
  {
   "cell_type": "code",
   "execution_count": 30,
   "metadata": {},
   "outputs": [],
   "source": [
    "sub_json = df.to_json()\n",
    "data = {\n",
    "    \"username\": \"aditya\",\n",
    "    \"password\": \"xxxxx\",\n",
    "    \"submission\": sub_json,\n",
    "    \"tag\": \"digits_multi_v2\",\n",
    "}"
   ]
  },
  {
   "cell_type": "code",
   "execution_count": 31,
   "metadata": {},
   "outputs": [
    {
     "output_type": "execute_result",
     "data": {
      "text/plain": [
       "'{\"success\":true,\"score\":{\"acc_8\":0.698,\"acc_7\":0.778,\"acc_5\":0.946}}'"
      ]
     },
     "metadata": {},
     "execution_count": 31
    }
   ],
   "source": [
    "# r = requests.post(SUBMISSION_URL, json=data)\n",
    "r.text"
   ]
  },
  {
   "cell_type": "code",
   "execution_count": 5,
   "metadata": {},
   "outputs": [],
   "source": [
    "rl = requests.post(LEADERBOARD_URL, json={})\n",
    "leaderboard = pd.DataFrame(rl.json()[\"leaderboard\"])\n",
    "leaderboard = leaderboard.sort_values(by=[\"score_8\", \"score_7\", \"score_5\"], ascending=False)\n",
    "leaderboard[\"submitted_at\"] = leaderboard[\"submitted_at\"].apply(lambda x: pd.to_datetime(\"-\".join(x.split(\"-\")[:-2])))"
   ]
  },
  {
   "cell_type": "code",
   "execution_count": 6,
   "metadata": {},
   "outputs": [
    {
     "output_type": "execute_result",
     "data": {
      "text/plain": [
       "   score_5  score_7  score_8        submitted_at                 tag username\n",
       "0    0.918    0.862    0.723 2020-11-07 06:00:00  crnn_v1_orig_test2      raj\n",
       "1    0.912    0.868    0.720 2020-11-07 08:00:00  crnn_v1_orig_test3      raj\n",
       "2    0.912    0.868    0.720 2020-11-07 09:00:00  crnn_v1_orig_test4      raj\n",
       "3    0.946    0.778    0.698 2020-11-07 07:00:00     digits_multi_v2   aditya\n",
       "4    0.901    0.856    0.696 2020-11-06 14:00:00         crnn_v1_box      raj\n",
       "5    0.936    0.780    0.692 2020-11-06 21:00:00     digits_multi_v1   aditya\n",
       "6    0.920    0.791    0.690 2020-11-07 15:00:00           digits_v3   aditya\n",
       "7    0.918    0.890    0.616 2020-11-06 14:00:00        crnn_v1_orig      raj\n",
       "8    0.892    0.852    0.595 2020-11-05 09:00:00           raj_test9      raj\n",
       "9    0.928    0.853    0.576 2020-11-07 09:00:00  crnn_v1_orig_test5      raj"
      ],
      "text/html": "<div>\n<style scoped>\n    .dataframe tbody tr th:only-of-type {\n        vertical-align: middle;\n    }\n\n    .dataframe tbody tr th {\n        vertical-align: top;\n    }\n\n    .dataframe thead th {\n        text-align: right;\n    }\n</style>\n<table border=\"1\" class=\"dataframe\">\n  <thead>\n    <tr style=\"text-align: right;\">\n      <th></th>\n      <th>score_5</th>\n      <th>score_7</th>\n      <th>score_8</th>\n      <th>submitted_at</th>\n      <th>tag</th>\n      <th>username</th>\n    </tr>\n  </thead>\n  <tbody>\n    <tr>\n      <th>0</th>\n      <td>0.918</td>\n      <td>0.862</td>\n      <td>0.723</td>\n      <td>2020-11-07 06:00:00</td>\n      <td>crnn_v1_orig_test2</td>\n      <td>raj</td>\n    </tr>\n    <tr>\n      <th>1</th>\n      <td>0.912</td>\n      <td>0.868</td>\n      <td>0.720</td>\n      <td>2020-11-07 08:00:00</td>\n      <td>crnn_v1_orig_test3</td>\n      <td>raj</td>\n    </tr>\n    <tr>\n      <th>2</th>\n      <td>0.912</td>\n      <td>0.868</td>\n      <td>0.720</td>\n      <td>2020-11-07 09:00:00</td>\n      <td>crnn_v1_orig_test4</td>\n      <td>raj</td>\n    </tr>\n    <tr>\n      <th>3</th>\n      <td>0.946</td>\n      <td>0.778</td>\n      <td>0.698</td>\n      <td>2020-11-07 07:00:00</td>\n      <td>digits_multi_v2</td>\n      <td>aditya</td>\n    </tr>\n    <tr>\n      <th>4</th>\n      <td>0.901</td>\n      <td>0.856</td>\n      <td>0.696</td>\n      <td>2020-11-06 14:00:00</td>\n      <td>crnn_v1_box</td>\n      <td>raj</td>\n    </tr>\n    <tr>\n      <th>5</th>\n      <td>0.936</td>\n      <td>0.780</td>\n      <td>0.692</td>\n      <td>2020-11-06 21:00:00</td>\n      <td>digits_multi_v1</td>\n      <td>aditya</td>\n    </tr>\n    <tr>\n      <th>6</th>\n      <td>0.920</td>\n      <td>0.791</td>\n      <td>0.690</td>\n      <td>2020-11-07 15:00:00</td>\n      <td>digits_v3</td>\n      <td>aditya</td>\n    </tr>\n    <tr>\n      <th>7</th>\n      <td>0.918</td>\n      <td>0.890</td>\n      <td>0.616</td>\n      <td>2020-11-06 14:00:00</td>\n      <td>crnn_v1_orig</td>\n      <td>raj</td>\n    </tr>\n    <tr>\n      <th>8</th>\n      <td>0.892</td>\n      <td>0.852</td>\n      <td>0.595</td>\n      <td>2020-11-05 09:00:00</td>\n      <td>raj_test9</td>\n      <td>raj</td>\n    </tr>\n    <tr>\n      <th>9</th>\n      <td>0.928</td>\n      <td>0.853</td>\n      <td>0.576</td>\n      <td>2020-11-07 09:00:00</td>\n      <td>crnn_v1_orig_test5</td>\n      <td>raj</td>\n    </tr>\n  </tbody>\n</table>\n</div>"
     },
     "metadata": {},
     "execution_count": 6
    }
   ],
   "source": [
    "leaderboard.head(10)"
   ]
  },
  {
   "cell_type": "code",
   "execution_count": null,
   "metadata": {},
   "outputs": [],
   "source": []
  }
 ]
}